{
 "cells": [
  {
   "cell_type": "code",
   "execution_count": null,
   "id": "25cab477-2df5-4970-bb9d-ea3d2887c937",
   "metadata": {
    "tags": []
   },
   "outputs": [],
   "source": [
    "import nltk"
   ]
  },
  {
   "cell_type": "code",
   "execution_count": null,
   "id": "5ddf6193-5534-4623-9918-26ae0ddedf69",
   "metadata": {
    "tags": []
   },
   "outputs": [],
   "source": [
    "nltk.download()"
   ]
  },
  {
   "cell_type": "code",
   "execution_count": 1,
   "id": "c935f61e-5db2-4b96-bfcb-0744af81ac55",
   "metadata": {
    "ExecuteTime": {
     "end_time": "2023-10-10T19:46:02.431860300Z",
     "start_time": "2023-10-10T19:44:56.206745900Z"
    }
   },
   "outputs": [],
   "source": [
    "import pandas as pd"
   ]
  },
  {
   "cell_type": "code",
   "execution_count": 2,
   "id": "abbcd096004f91c0",
   "metadata": {
    "ExecuteTime": {
     "end_time": "2023-10-10T19:47:23.746028300Z",
     "start_time": "2023-10-10T19:47:23.708682600Z"
    }
   },
   "outputs": [
    {
     "name": "stdout",
     "output_type": "stream",
     "text": [
      "Collecting nasdaq-data-link\n",
      "  Using cached Nasdaq_Data_Link-1.0.4-py2.py3-none-any.whl (28 kB)\n",
      "Requirement already satisfied: pandas>=0.14 in c:\\users\\robinson\\anaconda3\\lib\\site-packages (from nasdaq-data-link) (1.5.3)\n",
      "Requirement already satisfied: numpy>=1.8 in c:\\users\\robinson\\anaconda3\\lib\\site-packages (from nasdaq-data-link) (1.24.3)\n",
      "Requirement already satisfied: requests>=2.7.0 in c:\\users\\robinson\\anaconda3\\lib\\site-packages (from nasdaq-data-link) (2.29.0)\n",
      "Requirement already satisfied: inflection>=0.3.1 in c:\\users\\robinson\\anaconda3\\lib\\site-packages (from nasdaq-data-link) (0.5.1)\n",
      "Requirement already satisfied: python-dateutil in c:\\users\\robinson\\anaconda3\\lib\\site-packages (from nasdaq-data-link) (2.8.2)\n",
      "Requirement already satisfied: six in c:\\users\\robinson\\anaconda3\\lib\\site-packages (from nasdaq-data-link) (1.16.0)\n",
      "Requirement already satisfied: more-itertools in c:\\users\\robinson\\anaconda3\\lib\\site-packages (from nasdaq-data-link) (8.12.0)\n",
      "Requirement already satisfied: pytz>=2020.1 in c:\\users\\robinson\\anaconda3\\lib\\site-packages (from pandas>=0.14->nasdaq-data-link) (2022.7)\n",
      "Requirement already satisfied: charset-normalizer<4,>=2 in c:\\users\\robinson\\anaconda3\\lib\\site-packages (from requests>=2.7.0->nasdaq-data-link) (2.0.4)\n",
      "Requirement already satisfied: idna<4,>=2.5 in c:\\users\\robinson\\anaconda3\\lib\\site-packages (from requests>=2.7.0->nasdaq-data-link) (3.4)\n",
      "Requirement already satisfied: urllib3<1.27,>=1.21.1 in c:\\users\\robinson\\anaconda3\\lib\\site-packages (from requests>=2.7.0->nasdaq-data-link) (1.26.16)\n",
      "Requirement already satisfied: certifi>=2017.4.17 in c:\\users\\robinson\\anaconda3\\lib\\site-packages (from requests>=2.7.0->nasdaq-data-link) (2023.7.22)\n",
      "Installing collected packages: nasdaq-data-link\n",
      "Successfully installed nasdaq-data-link-1.0.4\n"
     ]
    }
   ],
   "source": [
    "!pip install nasdaq-data-link"
   ]
  },
  {
   "cell_type": "code",
   "execution_count": 3,
   "id": "73e4d9abe71541c6",
   "metadata": {},
   "outputs": [],
   "source": [
    "import nasdaqdatalink"
   ]
  },
  {
   "cell_type": "code",
   "execution_count": null,
   "id": "3c332f3b",
   "metadata": {},
   "outputs": [],
   "source": []
  }
 ],
 "metadata": {
  "kernelspec": {
   "display_name": "Python 3 (ipykernel)",
   "language": "python",
   "name": "python3"
  },
  "language_info": {
   "codemirror_mode": {
    "name": "ipython",
    "version": 3
   },
   "file_extension": ".py",
   "mimetype": "text/x-python",
   "name": "python",
   "nbconvert_exporter": "python",
   "pygments_lexer": "ipython3",
   "version": "3.11.5"
  }
 },
 "nbformat": 4,
 "nbformat_minor": 5
}
