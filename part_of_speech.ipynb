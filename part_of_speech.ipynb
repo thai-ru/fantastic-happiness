{
 "cells": [
  {
   "cell_type": "code",
   "execution_count": 2,
   "id": "498d8871-91e9-4ab8-9d2b-d1d4d7482661",
   "metadata": {
    "tags": []
   },
   "outputs": [],
   "source": [
    "import nltk\n",
    "from nltk.corpus import state_union\n",
    "from nltk.tokenize import PunktSentenceTokenizer"
   ]
  },
  {
   "cell_type": "code",
   "execution_count": null,
   "id": "b84ccb07-8054-4465-b1ea-e1e3b3eed456",
   "metadata": {},
   "outputs": [],
   "source": [
    "sample_text "
   ]
  }
 ],
 "metadata": {
  "kernelspec": {
   "display_name": "Python 3 (ipykernel)",
   "language": "python",
   "name": "python3"
  },
  "language_info": {
   "codemirror_mode": {
    "name": "ipython",
    "version": 3
   },
   "file_extension": ".py",
   "mimetype": "text/x-python",
   "name": "python",
   "nbconvert_exporter": "python",
   "pygments_lexer": "ipython3",
   "version": "3.11.5"
  }
 },
 "nbformat": 4,
 "nbformat_minor": 5
}
