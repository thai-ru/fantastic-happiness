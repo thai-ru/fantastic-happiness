{
 "cells": [
  {
   "cell_type": "code",
   "execution_count": 2,
   "id": "e9da79e3-fa11-4594-970a-1bc5efe76ee4",
   "metadata": {
    "tags": []
   },
   "outputs": [],
   "source": [
    "import re"
   ]
  },
  {
   "cell_type": "code",
   "execution_count": 3,
   "id": "111a3843-4a12-4751-856f-94ae5ccc8a95",
   "metadata": {
    "tags": []
   },
   "outputs": [],
   "source": [
    "chat1 = 'Hello there, 5496834896'\n",
    "chat2 = 'Hello world (6746)-6343-6788, order by abc_34@gmail.com'\n",
    "chat3 = 'your mail is abc@gmail.com'"
   ]
  },
  {
   "cell_type": "code",
   "execution_count": 4,
   "id": "9e8ec019-ce6d-4c9d-9d35-ed275655ae44",
   "metadata": {
    "tags": []
   },
   "outputs": [
    {
     "data": {
      "text/plain": [
       "['abc@gmail.com']"
      ]
     },
     "execution_count": 4,
     "metadata": {},
     "output_type": "execute_result"
    }
   ],
   "source": [
    "pattern = '[a-z0-9A-Z_]*@[a-z0-9A-Z_]*\\.[a-zA-Z]*'\n",
    "matches = re.findall(pattern, chat3)\n",
    "matches"
   ]
  },
  {
   "cell_type": "code",
   "execution_count": null,
   "id": "708ece62-59da-4f19-9025-c660ae716e8e",
   "metadata": {},
   "outputs": [],
   "source": []
  }
 ],
 "metadata": {
  "kernelspec": {
   "display_name": "Python 3 (ipykernel)",
   "language": "python",
   "name": "python3"
  },
  "language_info": {
   "codemirror_mode": {
    "name": "ipython",
    "version": 3
   },
   "file_extension": ".py",
   "mimetype": "text/x-python",
   "name": "python",
   "nbconvert_exporter": "python",
   "pygments_lexer": "ipython3",
   "version": "3.11.5"
  }
 },
 "nbformat": 4,
 "nbformat_minor": 5
}
