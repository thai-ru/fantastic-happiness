{
 "cells": [
  {
   "cell_type": "code",
   "execution_count": 10,
   "id": "425f2a2b-e22f-4909-972d-ac70e986b30e",
   "metadata": {
    "tags": []
   },
   "outputs": [
    {
     "name": "stderr",
     "output_type": "stream",
     "text": [
      "[nltk_data] Downloading package punkt to\n",
      "[nltk_data]     C:\\Users\\robinson\\AppData\\Roaming\\nltk_data...\n",
      "[nltk_data]   Unzipping tokenizers\\punkt.zip.\n"
     ]
    },
    {
     "data": {
      "text/plain": [
       "True"
      ]
     },
     "execution_count": 10,
     "metadata": {},
     "output_type": "execute_result"
    }
   ],
   "source": [
    "import nltk\n",
    "from nltk.stem import PorterStemmer\n",
    "from nltk.tokenize import word_tokenize\n",
    "nltk.download('punkt')"
   ]
  },
  {
   "cell_type": "code",
   "execution_count": 2,
   "id": "0be37cc3-9548-4c65-a9ad-02791b3989bf",
   "metadata": {
    "tags": []
   },
   "outputs": [],
   "source": [
    "# I was taking a ride in the car\n",
    "# I was riding in the car"
   ]
  },
  {
   "cell_type": "code",
   "execution_count": 5,
   "id": "6eee61fb-400b-4693-99ac-823a6b2294b2",
   "metadata": {
    "tags": []
   },
   "outputs": [],
   "source": [
    "ps = PorterStemmer()"
   ]
  },
  {
   "cell_type": "code",
   "execution_count": 6,
   "id": "6d4f7184-522a-401f-a414-1536a9981ecf",
   "metadata": {
    "tags": []
   },
   "outputs": [],
   "source": [
    "example_words = [\"python\",\"pythoner\", \"pythonister\",\"pythoned\",\"pythoning\"]"
   ]
  },
  {
   "cell_type": "code",
   "execution_count": 7,
   "id": "ed5b68a7-162e-4e50-abeb-553a177ba2a2",
   "metadata": {
    "tags": []
   },
   "outputs": [
    {
     "name": "stdout",
     "output_type": "stream",
     "text": [
      "python\n",
      "python\n",
      "pythonist\n",
      "python\n",
      "python\n"
     ]
    }
   ],
   "source": [
    "for w in example_words:\n",
    "    print(ps.stem(w))"
   ]
  },
  {
   "cell_type": "code",
   "execution_count": 8,
   "id": "01a58624-611d-4502-9d8b-cb6043d66b28",
   "metadata": {
    "tags": []
   },
   "outputs": [],
   "source": [
    "new_text = \"it is important to be pythoning with python like a pythonister. All pythoners pythoning\""
   ]
  },
  {
   "cell_type": "code",
   "execution_count": 11,
   "id": "cdef65a4-53c6-467e-9b41-5c87678cb4be",
   "metadata": {
    "tags": []
   },
   "outputs": [],
   "source": [
    "words = word_tokenize(new_text)"
   ]
  },
  {
   "cell_type": "code",
   "execution_count": 12,
   "id": "36f1782b-62a6-487c-a448-ebd75ef29682",
   "metadata": {
    "tags": []
   },
   "outputs": [
    {
     "name": "stdout",
     "output_type": "stream",
     "text": [
      "it\n",
      "is\n",
      "import\n",
      "to\n",
      "be\n",
      "python\n",
      "with\n",
      "python\n",
      "like\n",
      "a\n",
      "pythonist\n",
      ".\n",
      "all\n",
      "python\n",
      "python\n"
     ]
    }
   ],
   "source": [
    "for w in words:\n",
    "    print(ps.stem(w))"
   ]
  },
  {
   "cell_type": "code",
   "execution_count": null,
   "id": "d2fb64a6-466d-4f95-af79-847957b3f352",
   "metadata": {},
   "outputs": [],
   "source": []
  }
 ],
 "metadata": {
  "kernelspec": {
   "display_name": "Python 3 (ipykernel)",
   "language": "python",
   "name": "python3"
  },
  "language_info": {
   "codemirror_mode": {
    "name": "ipython",
    "version": 3
   },
   "file_extension": ".py",
   "mimetype": "text/x-python",
   "name": "python",
   "nbconvert_exporter": "python",
   "pygments_lexer": "ipython3",
   "version": "3.11.5"
  }
 },
 "nbformat": 4,
 "nbformat_minor": 5
}
